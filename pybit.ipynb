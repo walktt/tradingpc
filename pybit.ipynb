{
 "cells": [
  {
   "cell_type": "code",
   "execution_count": 16,
   "id": "dbf3ce4f",
   "metadata": {},
   "outputs": [],
   "source": [
    "from pybit import inverse_perpetual\n",
    "import time, datetime\n",
    "import pandas as pd\n",
    "import functions"
   ]
  },
  {
   "cell_type": "code",
   "execution_count": 8,
   "id": "7223c719",
   "metadata": {},
   "outputs": [],
   "source": [
    "session = inverse_perpetual.HTTP(\n",
    "    endpoint='https://api.bybit.com',\n",
    "    api_key='dguNZng7cuQ2QkJUKs',\n",
    "    api_secret='99j9MIm6Wz3sryWGVwBwMrNpxkERpODZQFP2'\n",
    ")\n",
    "ws = inverse_perpetual.WebSocket(\n",
    "    test=False,\n",
    "    api_key=\"dguNZng7cuQ2QkJUKs\",\n",
    "    api_secret=\"99j9MIm6Wz3sryWGVwBwMrNpxkERpODZQFP2\"\n",
    ")"
   ]
  },
  {
   "cell_type": "code",
   "execution_count": 28,
   "id": "2657a672",
   "metadata": {},
   "outputs": [],
   "source": [
    "def create_df_from_bybit (candles: dict):\n",
    "    df = pd.DataFrame([{\n",
    "        'time': datetime.datetime.fromtimestamp(c['open_time']),\n",
    "        'open': c['open'],\n",
    "        'close': c['close'],\n",
    "        'low': c['low'],\n",
    "        'high': c['high'],\n",
    "        'dif': abs(float(c['close']) - float(c['open'])),\n",
    "        'dir': calcDirection(c['open'], c['close']),\n",
    "        'token': c['symbol'],\n",
    "        'volume' : c['volume']\n",
    "    } for c in candles['result']])\n",
    "    df['open'] = pd.to_numeric(df['open'], errors='coerce')\n",
    "    df['close'] = pd.to_numeric(df['close'], errors='coerce')\n",
    "    df['low'] = pd.to_numeric(df['low'], errors='coerce')\n",
    "    df['high'] = pd.to_numeric(df['high'], errors='coerce')\n",
    "    df['dif'] = pd.to_numeric(df['dif'], errors='coerce').round(2)\n",
    "    df['volume'] = pd.to_numeric(df['volume'], errors='coerce')\n",
    "    return df"
   ]
  },
  {
   "cell_type": "code",
   "execution_count": 10,
   "id": "76517a4e",
   "metadata": {},
   "outputs": [],
   "source": [
    "def calcDirection(open, close):\n",
    "    if open == close:\n",
    "        return '='\n",
    "    if float(close) - float(open) > 0:\n",
    "        return '+'\n",
    "    if float(close) - float(open) < 0:\n",
    "        return '-'\n",
    "    else:\n",
    "        return 'err'"
   ]
  },
  {
   "cell_type": "code",
   "execution_count": 11,
   "id": "aa760880",
   "metadata": {
    "scrolled": true
   },
   "outputs": [],
   "source": [
    "timehourago = int(time.time())-60*60*24*3"
   ]
  },
  {
   "cell_type": "code",
   "execution_count": 29,
   "id": "6e507f3c",
   "metadata": {},
   "outputs": [],
   "source": [
    "candles = session.query_kline(symbol=\"ETHUSD\", interval=\"60\", from_time=timehourago, limit = 200)"
   ]
  },
  {
   "cell_type": "code",
   "execution_count": 30,
   "id": "8fb2f8cb",
   "metadata": {},
   "outputs": [],
   "source": [
    "data = create_df_from_bybit(candles)"
   ]
  },
  {
   "cell_type": "code",
   "execution_count": 31,
   "id": "e24f274e",
   "metadata": {},
   "outputs": [],
   "source": [
    "data = functions.add_columns_for_df(data)"
   ]
  },
  {
   "cell_type": "code",
   "execution_count": 34,
   "id": "2bd1f5cf",
   "metadata": {},
   "outputs": [
    {
     "name": "stderr",
     "output_type": "stream",
     "text": [
      "WebSocket Inverse Perp (Auth) encountered error: ping/pong timed out.\n",
      "WebSocket Inverse Perp (Auth) encountered error: socket is already closed..\n",
      "WebSocket Inverse Perp (Auth) encountered error: Connection to remote host was lost..\n",
      "WebSocket Inverse Perp (Auth) encountered error: Handshake status 502 Bad Gateway.\n"
     ]
    }
   ],
   "source": [
    "data.to_csv('data.csv',index=False)"
   ]
  },
  {
   "cell_type": "code",
   "execution_count": 115,
   "id": "dd9a88ad",
   "metadata": {},
   "outputs": [
    {
     "name": "stdout",
     "output_type": "stream",
     "text": [
      "                   time     open    close      low     high   diff dir   token\n",
      "0   2022-06-25 09:00:00   1216.7  1218.85  1214.05  1218.85   2.15   +  ETHUSD\n",
      "1   2022-06-25 09:15:00  1218.85   1209.2   1209.2  1220.65   9.65   -  ETHUSD\n",
      "2   2022-06-25 09:30:00   1209.2   1215.2   1208.6   1215.8   6.00   +  ETHUSD\n",
      "3   2022-06-25 09:45:00   1215.2   1217.7   1213.4   1218.7   2.50   +  ETHUSD\n",
      "4   2022-06-25 10:00:00   1217.7  1227.45  1217.65  1228.45   9.75   +  ETHUSD\n",
      "..                  ...      ...      ...      ...      ...    ...  ..     ...\n",
      "121 2022-06-26 15:15:00   1270.1  1261.75  1261.75  1272.65   8.35   -  ETHUSD\n",
      "122 2022-06-26 15:30:00  1261.75  1257.05  1256.25   1264.8   4.70   -  ETHUSD\n",
      "123 2022-06-26 15:45:00  1257.05   1239.2   1236.9  1261.55  17.85   -  ETHUSD\n",
      "124 2022-06-26 16:00:00   1239.2  1232.95   1227.2   1241.1   6.25   -  ETHUSD\n",
      "125 2022-06-26 16:15:00  1232.95   1230.5   1230.5   1237.3   2.45   -  ETHUSD\n",
      "\n",
      "[126 rows x 8 columns]\n"
     ]
    }
   ],
   "source": [
    "minutes=14440*2\n",
    "timehourago = int(time.time())-60*minutes+15*200*9*60\n",
    "datetime.datetime.fromtimestamp(timehourago)\n",
    "data = session.query_kline(symbol=\"ETHUSD\", interval=\"15\", from_time=timehourago, limit = 200)\n",
    "df = create_df_from_bybit(data)\n",
    "df.to_csv('data9.csv',index=False)"
   ]
  }
 ],
 "metadata": {
  "kernelspec": {
   "display_name": "Python 3 (ipykernel)",
   "language": "python",
   "name": "python3"
  },
  "language_info": {
   "codemirror_mode": {
    "name": "ipython",
    "version": 3
   },
   "file_extension": ".py",
   "mimetype": "text/x-python",
   "name": "python",
   "nbconvert_exporter": "python",
   "pygments_lexer": "ipython3",
   "version": "3.9.5"
  }
 },
 "nbformat": 4,
 "nbformat_minor": 5
}
