{
 "cells": [
  {
   "cell_type": "code",
   "execution_count": 5,
   "id": "d5bb2ebd",
   "metadata": {},
   "outputs": [],
   "source": [
    "import bybit_data, functions, tinkoff_data, time, datetime\n",
    "import tinkoff.invest as ti\n",
    "from configparser import ConfigParser"
   ]
  },
  {
   "cell_type": "code",
   "execution_count": 7,
   "id": "a94a0fda",
   "metadata": {},
   "outputs": [],
   "source": [
    "def _get_api_params_from_config() -> dict:\n",
    "    config_parser = ConfigParser()\n",
    "    config_parser.read('config.cfg')\n",
    "\n",
    "    return {'token': config_parser.get('core', 'TOKEN_TINKOFF')}"
   ]
  },
  {
   "cell_type": "code",
   "execution_count": 9,
   "id": "44ddab58",
   "metadata": {},
   "outputs": [],
   "source": [
    "def get_figi_from_ticker(name, client):\n",
    "    instruments = client.instruments.futures()\n",
    "    for instrument in instruments.instruments:\n",
    "        if instrument.ticker == name:\n",
    "            break\n",
    "    return instrument.figi"
   ]
  },
  {
   "cell_type": "code",
   "execution_count": 11,
   "id": "defce290",
   "metadata": {},
   "outputs": [],
   "source": [
    "today_date = datetime.date.today()\n",
    "today_date_start = datetime.datetime(today_date.year, today_date.month, today_date.day)\n",
    "freq = ti.CandleInterval.CANDLE_INTERVAL_HOUR\n",
    "with ti.Client(**_get_api_params_from_config()) as client:\n",
    "    figi = get_figi_from_ticker('RIU2', client)\n",
    "    period_in_hours = 24\n",
    "    if (period_in_hours > 0):\n",
    "        period = datetime.timedelta(hours=period_in_hours)\n",
    "    raw_data = client.market_data.get_candles(\n",
    "        figi=figi,\n",
    "        from_=datetime.datetime.now() - period,\n",
    "        to=datetime.datetime.now(),\n",
    "        interval=freq\n",
    "    )"
   ]
  },
  {
   "cell_type": "code",
   "execution_count": null,
   "id": "2b7946be",
   "metadata": {},
   "outputs": [],
   "source": []
  },
  {
   "cell_type": "code",
   "execution_count": 2,
   "id": "e43100fd",
   "metadata": {},
   "outputs": [
    {
     "name": "stdout",
     "output_type": "stream",
     "text": [
      "2022-06-29 20:19:57.082301\n",
      "                 time   open    close    low   high   dif dir   token  \\\n",
      "0 2022-06-29 17:00:00  20046  20083.0  19997  20138  37.0   +  BTCUSD   \n",
      "1 2022-06-29 18:00:00  20083  20040.0  19952  20096  43.0   -  BTCUSD   \n",
      "2 2022-06-29 19:00:00  20040  19983.0  19930  20060  57.0   -  BTCUSD   \n",
      "3 2022-06-29 20:00:00  19983  19895.5  19890  20009  87.5   -  BTCUSD   \n",
      "\n",
      "   shadow_down  shadow_up  \n",
      "0         49.0       55.0  \n",
      "1         88.0       13.0  \n",
      "2         53.0       20.0  \n",
      "3          5.5       26.0  \n"
     ]
    }
   ],
   "source": [
    "bybit_data.run_bybit_check('BTCUSD', 60, 240)"
   ]
  }
 ],
 "metadata": {
  "kernelspec": {
   "display_name": "Python 3 (ipykernel)",
   "language": "python",
   "name": "python3"
  },
  "language_info": {
   "codemirror_mode": {
    "name": "ipython",
    "version": 3
   },
   "file_extension": ".py",
   "mimetype": "text/x-python",
   "name": "python",
   "nbconvert_exporter": "python",
   "pygments_lexer": "ipython3",
   "version": "3.9.5"
  }
 },
 "nbformat": 4,
 "nbformat_minor": 5
}
